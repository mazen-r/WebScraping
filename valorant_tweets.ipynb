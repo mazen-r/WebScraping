{
 "cells": [
  {
   "cell_type": "code",
   "execution_count": 1,
   "id": "f9778816",
   "metadata": {},
   "outputs": [],
   "source": [
    "import os\n",
    "import tweepy as tw\n",
    "import pandas as pd\n",
    "import time\n",
    "import datetime"
   ]
  },
  {
   "cell_type": "code",
   "execution_count": 2,
   "id": "d89f81a7",
   "metadata": {},
   "outputs": [],
   "source": [
    "consumer_key = \"p7PM7w3Tud4VKW3och8M9N3V0\"\n",
    "consumer_secret = \"9UkshrzbMyHgOPPqNfHi7UppNOSqJtdtFzKPDtZxTJywxHCItx\"\n",
    "access_token = \"1436259714443227164-SmztIKljaEhmd0Jx3ZgN6YaY1fKd6E\"\n",
    "access_token_secret = \"LyPHnDLueUoNKD74muET9oKRD436OwEKPugJzOeg2BNXf\"\n",
    "# You can use your keys unfortunately I can't share it"
   ]
  },
  {
   "cell_type": "code",
   "execution_count": 3,
   "id": "0f4ccd21",
   "metadata": {},
   "outputs": [],
   "source": [
    "auth = tw.OAuthHandler(consumer_key, consumer_secret)\n",
    "auth.set_access_token(access_token, access_token_secret)\n",
    "api = tw.API(auth, wait_on_rate_limit=True)"
   ]
  },
  {
   "cell_type": "code",
   "execution_count": 4,
   "id": "39980c31",
   "metadata": {},
   "outputs": [],
   "source": [
    "def show_tweets(search_word):\n",
    "    start = time.time()\n",
    "    tweets = tw.Cursor(api.search,\n",
    "                  q=search_word+' -filter:retweets', tweet_mode=\"extended\",\n",
    "                  lang=\"en\").items(20)\n",
    "\n",
    "\n",
    "    for tweet in tweets:\n",
    "        print(f'Tweets is :    {tweet.full_text}', tweet.created_at)\n",
    "        print ('---')\n",
    "\n",
    "    end = time.time()\n",
    "    print(f\"It took {round(end - start, 2)} Seconds to get tweets\")"
   ]
  },
  {
   "cell_type": "code",
   "execution_count": 5,
   "id": "9213fb74",
   "metadata": {
    "scrolled": true
   },
   "outputs": [
    {
     "name": "stdout",
     "output_type": "stream",
     "text": [
      "Tweets is :    @ARIANARCHIST @XSET LETS FUCKING GOOOOOOOOOOOO!!! Much deserved and I'm so happy for you &lt;3 &lt;3 2021-09-29 22:37:29\n",
      "---\n",
      "Tweets is :    While i was at it, tried to doodle Sova 👉👈\n",
      "\n",
      "#VALORANT #VALORANTfanart #Sova https://t.co/lwHtSZZuBf 2021-09-29 22:19:15\n",
      "---\n",
      "Tweets is :    Valorant - Sova - K/D - 34/16 \n",
      "\n",
      "1 Ace\n",
      "2 x Cluthes\n",
      "MVP\n",
      "13 -12 Win\n",
      "\n",
      "Filth, got it all on film. 2021-09-29 22:03:46\n",
      "---\n",
      "Tweets is :    @AvocadoMomoring i find it quite amusing that some of this is actually true\n",
      "jett's english VA was a kpop idol, and average jonas might as well be sova's personification lmao 2021-09-29 22:02:01\n",
      "---\n",
      "Tweets is :    LF 5th\n",
      "Skye, Sova, or Smokes (Omen/Astra)\n",
      "Must have Tier 2+ Exp.\n",
      "Be able to play almost everyday of the week from 7-10pm EST\n",
      "Available for the Knights Tourney October 9th/10th\n",
      "\n",
      "God Given is currently Top 70 VLR and just getting started.\n",
      "\n",
      "DM VLR/Spike ASAP to trial\n",
      "\n",
      "@HitBox_Hiros 2021-09-29 21:59:13\n",
      "---\n",
      "Tweets is :    me on A: getting sova darted, raze boombot, sky ulted\n",
      "\n",
      "my teammate on B: https://t.co/jkSLul7nAK 2021-09-29 21:34:18\n",
      "---\n",
      "Tweets is :    @HarmonVAL1 @DarkZeroGG Best sova NA you're good keep grinding bro &lt;3 2021-09-29 21:25:14\n",
      "---\n",
      "Tweets is :    @jdkVAL Omen, Viper, Sova, Jett, Reyna, Pheonix, Raze, Yoru I got it all in the locker 2021-09-29 21:12:29\n",
      "---\n",
      "Tweets is :    @Watitora You better tell sova, don't lie 😂 2021-09-29 21:11:53\n",
      "---\n",
      "Tweets is :    LFT\n",
      "\n",
      "•Jett,Skye,Sova,Sage,Astra\n",
      "•8 months of scrimming and tourneys\n",
      "•Available 24/7 :)\n",
      "•I'll try my best UwU\n",
      "\n",
      "Rts and v :) 2021-09-29 20:53:40\n",
      "---\n",
      "Tweets is :    @ItsTumbelina sova deserves the world 2021-09-29 20:49:59\n",
      "---\n",
      "Tweets is :    @hsbtheking @soulm8VLR @darkkkyval @shooterval @k1NgVLR @ExploitSTORM Squid Doll &lt; Haseeb sova 🏹\n",
      "#teamexploit 2021-09-29 20:46:08\n",
      "---\n",
      "Tweets is :    should i try playing omen bc i have no feel or talent on sage, breach, sova, yoru, viper, sage, reyna, brimstone, skye, and cypher. 2021-09-29 20:33:29\n",
      "---\n",
      "Tweets is :    @regan_travis give me a few days to learn sova get me in there 2021-09-29 20:31:25\n",
      "---\n",
      "Tweets is :    @Sova_13 Happy birthday (late) 2021-09-29 20:26:32\n",
      "---\n",
      "Tweets is :    @KardukkLewds @Sova_13 @Dan_and_Nite Happy birthday 2021-09-29 20:25:40\n",
      "---\n",
      "Tweets is :    @RoosterTeeth @the_kit_blue is one of the nicest, most genuine people I have ever met. Love playing with her, she brings the best vibes and all the best sova lineups on split ❤️😝 2021-09-29 19:54:24\n",
      "---\n",
      "Tweets is :    we met a really nice sova today sa random comp HAHHAHA it was a fun game 2021-09-29 19:42:33\n",
      "---\n",
      "Tweets is :    day one of kovaaks (from yesterday and i am learning sova OKAY) https://t.co/bBBUwSlLIC 2021-09-29 19:39:10\n",
      "---\n",
      "Tweets is :    Although the SAT and standardized tests have inherent flaws, they are an added data point for colleges to screen students, which is something employers value about the traditional college system. I’m curious how this will impact job prospects for UC graduates v. private schools. https://t.co/snTTlaes0n 2021-09-29 19:38:01\n",
      "---\n",
      "It took 1.56 Seconds to get tweets\n"
     ]
    }
   ],
   "source": [
    "show_tweets('sova')"
   ]
  },
  {
   "cell_type": "code",
   "execution_count": 6,
   "id": "2afa1976",
   "metadata": {},
   "outputs": [],
   "source": [
    "df = pd.DataFrame(columns=['tweet', 'date', 'Agent', 'Role'])"
   ]
  },
  {
   "cell_type": "code",
   "execution_count": 12,
   "id": "852f076d",
   "metadata": {},
   "outputs": [],
   "source": [
    "def get_tweets(search_word, role):\n",
    "    global df\n",
    "    start = time.time()\n",
    "\n",
    "    tweets = tw.Cursor(api.search,\n",
    "                  q=search_word+' -filter:retweets', tweet_mode=\"extended\",\n",
    "                  lang=\"en\").items(1000)\n",
    "\n",
    "    users_locs = [[tweet.full_text,tweet.created_at, search_word, role] for tweet in tweets]\n",
    "    tweets = pd.DataFrame(data=users_locs, \n",
    "                        columns=['tweet','date', 'Agent', 'Role'])\n",
    "    tweets['Agent'] = search_word.capitalize()\n",
    "    tweets['Role'] = role\n",
    "    df = df.append(tweets)\n",
    "\n",
    "    end = time.time()\n",
    "    print(f\"It took {round(end - start, 2)} Seconds to get tweets\")\n",
    "    df.head()"
   ]
  },
  {
   "cell_type": "code",
   "execution_count": 13,
   "id": "bcc7bb1a",
   "metadata": {},
   "outputs": [
    {
     "data": {
      "text/html": [
       "<div>\n",
       "<style scoped>\n",
       "    .dataframe tbody tr th:only-of-type {\n",
       "        vertical-align: middle;\n",
       "    }\n",
       "\n",
       "    .dataframe tbody tr th {\n",
       "        vertical-align: top;\n",
       "    }\n",
       "\n",
       "    .dataframe thead th {\n",
       "        text-align: right;\n",
       "    }\n",
       "</style>\n",
       "<table border=\"1\" class=\"dataframe\">\n",
       "  <thead>\n",
       "    <tr style=\"text-align: right;\">\n",
       "      <th></th>\n",
       "      <th>tweet</th>\n",
       "      <th>date</th>\n",
       "      <th>Agent</th>\n",
       "      <th>Role</th>\n",
       "    </tr>\n",
       "  </thead>\n",
       "  <tbody>\n",
       "  </tbody>\n",
       "</table>\n",
       "</div>"
      ],
      "text/plain": [
       "Empty DataFrame\n",
       "Columns: [tweet, date, Agent, Role]\n",
       "Index: []"
      ]
     },
     "execution_count": 13,
     "metadata": {},
     "output_type": "execute_result"
    }
   ],
   "source": [
    "df.head()"
   ]
  },
  {
   "cell_type": "code",
   "execution_count": 14,
   "id": "aeda9843",
   "metadata": {},
   "outputs": [
    {
     "name": "stdout",
     "output_type": "stream",
     "text": [
      "It took 52.25 Seconds to get tweets\n"
     ]
    }
   ],
   "source": [
    "get_tweets('brimstone', 'Controller')"
   ]
  },
  {
   "cell_type": "code",
   "execution_count": 17,
   "id": "cf39fd5b",
   "metadata": {},
   "outputs": [
    {
     "name": "stdout",
     "output_type": "stream",
     "text": [
      "It took 54.9 Seconds to get tweets\n"
     ]
    }
   ],
   "source": [
    "get_tweets('phoenix', 'Duelist')"
   ]
  },
  {
   "cell_type": "code",
   "execution_count": 18,
   "id": "a5880da2",
   "metadata": {},
   "outputs": [
    {
     "name": "stdout",
     "output_type": "stream",
     "text": [
      "It took 145.23 Seconds to get tweets\n"
     ]
    }
   ],
   "source": [
    "get_tweets('sage', 'Sentinel')"
   ]
  },
  {
   "cell_type": "code",
   "execution_count": 19,
   "id": "c7a9f007",
   "metadata": {},
   "outputs": [
    {
     "name": "stdout",
     "output_type": "stream",
     "text": [
      "It took 51.37 Seconds to get tweets\n"
     ]
    }
   ],
   "source": [
    "get_tweets('sova', 'Initiator')"
   ]
  },
  {
   "cell_type": "code",
   "execution_count": 20,
   "id": "cc13f301",
   "metadata": {},
   "outputs": [
    {
     "name": "stdout",
     "output_type": "stream",
     "text": [
      "It took 51.99 Seconds to get tweets\n"
     ]
    }
   ],
   "source": [
    "get_tweets('viper', 'Controller')"
   ]
  },
  {
   "cell_type": "code",
   "execution_count": 21,
   "id": "c1395a29",
   "metadata": {},
   "outputs": [
    {
     "name": "stdout",
     "output_type": "stream",
     "text": [
      "It took 640.71 Seconds to get tweets\n"
     ]
    }
   ],
   "source": [
    "get_tweets('cypher', 'Sentinel')"
   ]
  },
  {
   "cell_type": "code",
   "execution_count": 22,
   "id": "e46ea74c",
   "metadata": {},
   "outputs": [
    {
     "name": "stdout",
     "output_type": "stream",
     "text": [
      "It took 51.2 Seconds to get tweets\n"
     ]
    }
   ],
   "source": [
    "get_tweets('reyna', 'Duelist')"
   ]
  },
  {
   "cell_type": "code",
   "execution_count": 23,
   "id": "973ed3a3",
   "metadata": {},
   "outputs": [
    {
     "name": "stdout",
     "output_type": "stream",
     "text": [
      "It took 821.49 Seconds to get tweets\n"
     ]
    }
   ],
   "source": [
    "get_tweets('killjoy', 'Sentinel')"
   ]
  },
  {
   "cell_type": "code",
   "execution_count": 24,
   "id": "c83210a7",
   "metadata": {},
   "outputs": [
    {
     "name": "stdout",
     "output_type": "stream",
     "text": [
      "It took 52.59 Seconds to get tweets\n"
     ]
    }
   ],
   "source": [
    "get_tweets('breach', 'Initiator')"
   ]
  },
  {
   "cell_type": "code",
   "execution_count": 25,
   "id": "1b471236",
   "metadata": {},
   "outputs": [
    {
     "name": "stdout",
     "output_type": "stream",
     "text": [
      "It took 51.42 Seconds to get tweets\n"
     ]
    }
   ],
   "source": [
    "get_tweets('omen', 'Controller')"
   ]
  },
  {
   "cell_type": "code",
   "execution_count": 26,
   "id": "6750da81",
   "metadata": {},
   "outputs": [
    {
     "name": "stdout",
     "output_type": "stream",
     "text": [
      "It took 819.85 Seconds to get tweets\n"
     ]
    }
   ],
   "source": [
    "get_tweets('jett', 'Duelist')"
   ]
  },
  {
   "cell_type": "code",
   "execution_count": 27,
   "id": "c5d2f552",
   "metadata": {},
   "outputs": [
    {
     "name": "stdout",
     "output_type": "stream",
     "text": [
      "It took 28.17 Seconds to get tweets\n"
     ]
    }
   ],
   "source": [
    "get_tweets('raze', 'Duelist')"
   ]
  },
  {
   "cell_type": "code",
   "execution_count": 28,
   "id": "042c7414",
   "metadata": {},
   "outputs": [
    {
     "name": "stdout",
     "output_type": "stream",
     "text": [
      "It took 54.61 Seconds to get tweets\n"
     ]
    }
   ],
   "source": [
    "get_tweets('skye', 'Initiator')"
   ]
  },
  {
   "cell_type": "code",
   "execution_count": 29,
   "id": "85ca1248",
   "metadata": {},
   "outputs": [
    {
     "name": "stdout",
     "output_type": "stream",
     "text": [
      "It took 819.45 Seconds to get tweets\n"
     ]
    }
   ],
   "source": [
    "get_tweets('yoru', 'Duelist')"
   ]
  },
  {
   "cell_type": "code",
   "execution_count": 30,
   "id": "d629ef6f",
   "metadata": {},
   "outputs": [
    {
     "name": "stdout",
     "output_type": "stream",
     "text": [
      "It took 56.15 Seconds to get tweets\n"
     ]
    }
   ],
   "source": [
    "get_tweets('astra', 'Controller')"
   ]
  },
  {
   "cell_type": "code",
   "execution_count": 31,
   "id": "5f3ffe77",
   "metadata": {},
   "outputs": [
    {
     "name": "stdout",
     "output_type": "stream",
     "text": [
      "It took 820.66 Seconds to get tweets\n"
     ]
    }
   ],
   "source": [
    "get_tweets('kayo', 'Initiator')"
   ]
  },
  {
   "cell_type": "code",
   "execution_count": 32,
   "id": "16e48f8e",
   "metadata": {},
   "outputs": [
    {
     "data": {
      "text/plain": [
       "(15502, 4)"
      ]
     },
     "execution_count": 32,
     "metadata": {},
     "output_type": "execute_result"
    }
   ],
   "source": [
    "df.shape"
   ]
  },
  {
   "cell_type": "code",
   "execution_count": 33,
   "id": "8519b10f",
   "metadata": {},
   "outputs": [
    {
     "data": {
      "text/plain": [
       "Killjoy      1000\n",
       "Kayo         1000\n",
       "Breach       1000\n",
       "Brimstone    1000\n",
       "Omen         1000\n",
       "Jett         1000\n",
       "Reyna        1000\n",
       "Phoenix      1000\n",
       "Viper        1000\n",
       "Astra        1000\n",
       "Cypher       1000\n",
       "Sage         1000\n",
       "Yoru         1000\n",
       "Sova         1000\n",
       "Skye         1000\n",
       "Raze          502\n",
       "Name: Agent, dtype: int64"
      ]
     },
     "execution_count": 33,
     "metadata": {},
     "output_type": "execute_result"
    }
   ],
   "source": [
    "df['Agent'].value_counts()"
   ]
  },
  {
   "cell_type": "code",
   "execution_count": 34,
   "id": "3c966c14",
   "metadata": {},
   "outputs": [],
   "source": [
    "df.to_csv('valorant_tweets.csv', index=False)"
   ]
  },
  {
   "cell_type": "code",
   "execution_count": null,
   "id": "a5ee02d1",
   "metadata": {},
   "outputs": [],
   "source": []
  }
 ],
 "metadata": {
  "kernelspec": {
   "display_name": "Anaconda (base)",
   "language": "python",
   "name": "anaconda-base"
  },
  "language_info": {
   "codemirror_mode": {
    "name": "ipython",
    "version": 3
   },
   "file_extension": ".py",
   "mimetype": "text/x-python",
   "name": "python",
   "nbconvert_exporter": "python",
   "pygments_lexer": "ipython3",
   "version": "3.8.8"
  }
 },
 "nbformat": 4,
 "nbformat_minor": 5
}
